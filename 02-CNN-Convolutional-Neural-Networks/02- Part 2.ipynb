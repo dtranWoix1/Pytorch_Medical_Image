{
 "cells": [
  {
   "cell_type": "code",
   "execution_count": 1,
   "id": "8e2eae9e",
   "metadata": {
    "tags": []
   },
   "outputs": [],
   "source": [
    "import torch\n",
    "import torch.nn as nn\n",
    "import torch.nn.functional as F          # adds some efficiency\n",
    "from torch.utils.data import DataLoader  # lets us load data in batches\n",
    "from torchvision import datasets, transforms\n",
    "\n",
    "import numpy as np\n",
    "import pandas as pd\n",
    "from sklearn.metrics import confusion_matrix  # for evaluating results\n",
    "import matplotlib.pyplot as plt\n",
    "%matplotlib inline"
   ]
  },
  {
   "cell_type": "code",
   "execution_count": 71,
   "id": "c5f5ea55",
   "metadata": {},
   "outputs": [],
   "source": [
    "import torch\n",
    "import torch.nn as nn\n",
    "import torch.nn.functional as F\n",
    "from torch.utils.data import DataLoader\n",
    "from torchvision import datasets, transforms\n",
    "from torchvision.utils import make_grid\n",
    "\n",
    "import numpy as np\n",
    "import pandas as pd\n",
    "from sklearn.metrics import confusion_matrix\n",
    "import matplotlib.pyplot as plt\n",
    "%matplotlib inline"
   ]
  },
  {
   "cell_type": "code",
   "execution_count": 2,
   "id": "2f5054b7",
   "metadata": {
    "tags": []
   },
   "outputs": [],
   "source": [
    "transform = transforms.ToTensor()"
   ]
  },
  {
   "cell_type": "code",
   "execution_count": 3,
   "id": "17fc2b74",
   "metadata": {
    "tags": []
   },
   "outputs": [],
   "source": [
    "train_data = datasets.MNIST(root='../Data',train= True, download= True, transform = transform)"
   ]
  },
  {
   "cell_type": "code",
   "execution_count": 4,
   "id": "36712045",
   "metadata": {
    "tags": []
   },
   "outputs": [],
   "source": [
    "test_data = datasets.MNIST(root='../Data',train= False, download= True, transform = transform)"
   ]
  },
  {
   "cell_type": "code",
   "execution_count": 5,
   "id": "0a406b13-f332-4531-a5f6-43652f305e0c",
   "metadata": {
    "tags": []
   },
   "outputs": [
    {
     "data": {
      "text/plain": [
       "Dataset MNIST\n",
       "    Number of datapoints: 10000\n",
       "    Root location: ../Data\n",
       "    Split: Test\n",
       "    StandardTransform\n",
       "Transform: ToTensor()"
      ]
     },
     "execution_count": 5,
     "metadata": {},
     "output_type": "execute_result"
    }
   ],
   "source": [
    "test_data"
   ]
  },
  {
   "cell_type": "code",
   "execution_count": 6,
   "id": "b9fb65fa-971d-43e6-acd3-e17791acfb81",
   "metadata": {
    "tags": []
   },
   "outputs": [],
   "source": [
    "train_loader = DataLoader(train_data,batch_size = 10, shuffle = True)\n",
    "test_loader = DataLoader(test_data, batch_size = 10, shuffle = False)\n"
   ]
  },
  {
   "cell_type": "code",
   "execution_count": 7,
   "id": "ce4f2983-3d7e-40eb-b2fa-7d6822a51f53",
   "metadata": {
    "tags": []
   },
   "outputs": [],
   "source": [
    "# 1 gray scale, 6 filter output channel feature, 3 by 3 kernel size, stride = 1 (how big)\n",
    "conv1 = nn.Conv2d(1,6,3,1) # ---> 6 filters ---> pooling ---> conv2\n",
    "\n",
    "# 6 input filter Conv1, 16 filters, 3 by 3, stride = 1\n",
    "conv2 = nn.Conv2d(6,16,3,1) "
   ]
  },
  {
   "cell_type": "code",
   "execution_count": 8,
   "id": "24f82bc9-5059-4022-b0a8-f3a77d665e51",
   "metadata": {
    "tags": []
   },
   "outputs": [],
   "source": [
    "for i, (X_train, y_train) in enumerate(train_data):\n",
    "    break"
   ]
  },
  {
   "cell_type": "code",
   "execution_count": 9,
   "id": "d152972a-3b26-4492-bf0e-ca3affc05b93",
   "metadata": {
    "tags": []
   },
   "outputs": [
    {
     "data": {
      "text/plain": [
       "torch.Size([1, 28, 28])"
      ]
     },
     "execution_count": 9,
     "metadata": {},
     "output_type": "execute_result"
    }
   ],
   "source": [
    "X_train.shape # ---> 4D batch(batch of 1 image)"
   ]
  },
  {
   "cell_type": "code",
   "execution_count": 10,
   "id": "d4e1210a-eae8-4abc-afc3-89bed40a6a48",
   "metadata": {
    "tags": []
   },
   "outputs": [],
   "source": [
    "x = X_train.view(1,1,28,28)"
   ]
  },
  {
   "cell_type": "code",
   "execution_count": 11,
   "id": "1dc9d948-a3f1-443a-8019-54612d169571",
   "metadata": {},
   "outputs": [],
   "source": [
    "x= F.relu(conv1(x))"
   ]
  },
  {
   "cell_type": "code",
   "execution_count": 12,
   "id": "569abc79-81b8-43fc-ae0f-df8a48cdec69",
   "metadata": {
    "tags": []
   },
   "outputs": [
    {
     "data": {
      "text/plain": [
       "torch.Size([1, 6, 26, 26])"
      ]
     },
     "execution_count": 12,
     "metadata": {},
     "output_type": "execute_result"
    }
   ],
   "source": [
    "x.shape"
   ]
  },
  {
   "cell_type": "code",
   "execution_count": 15,
   "id": "935bda84-f7f7-4dbb-aef6-626ec69725a6",
   "metadata": {},
   "outputs": [],
   "source": [
    "x= F.max_pool2d(x,2,2)"
   ]
  },
  {
   "cell_type": "code",
   "execution_count": 16,
   "id": "905189aa",
   "metadata": {},
   "outputs": [
    {
     "data": {
      "text/plain": [
       "torch.Size([1, 6, 13, 13])"
      ]
     },
     "execution_count": 16,
     "metadata": {},
     "output_type": "execute_result"
    }
   ],
   "source": [
    "x.shape"
   ]
  },
  {
   "cell_type": "code",
   "execution_count": 17,
   "id": "a351f679",
   "metadata": {},
   "outputs": [],
   "source": [
    "x = F.relu(conv2(x))"
   ]
  },
  {
   "cell_type": "code",
   "execution_count": 18,
   "id": "060961e0",
   "metadata": {},
   "outputs": [
    {
     "data": {
      "text/plain": [
       "torch.Size([1, 16, 11, 11])"
      ]
     },
     "execution_count": 18,
     "metadata": {},
     "output_type": "execute_result"
    }
   ],
   "source": [
    "x.shape"
   ]
  },
  {
   "cell_type": "code",
   "execution_count": 19,
   "id": "be2070af",
   "metadata": {},
   "outputs": [],
   "source": [
    "x = F.max_pool2d(x,2,2)"
   ]
  },
  {
   "cell_type": "code",
   "execution_count": 20,
   "id": "e5c8b595",
   "metadata": {},
   "outputs": [
    {
     "data": {
      "text/plain": [
       "torch.Size([1, 16, 5, 5])"
      ]
     },
     "execution_count": 20,
     "metadata": {},
     "output_type": "execute_result"
    }
   ],
   "source": [
    "x.shape"
   ]
  },
  {
   "cell_type": "code",
   "execution_count": 21,
   "id": "3868314e",
   "metadata": {},
   "outputs": [
    {
     "data": {
      "text/plain": [
       "5.5"
      ]
     },
     "execution_count": 21,
     "metadata": {},
     "output_type": "execute_result"
    }
   ],
   "source": [
    "(((28-2)/2)-2)/2"
   ]
  },
  {
   "cell_type": "code",
   "execution_count": 22,
   "id": "f167dae1",
   "metadata": {},
   "outputs": [
    {
     "data": {
      "text/plain": [
       "torch.Size([1, 16, 5, 5])"
      ]
     },
     "execution_count": 22,
     "metadata": {},
     "output_type": "execute_result"
    }
   ],
   "source": [
    "x.shape #10"
   ]
  },
  {
   "cell_type": "code",
   "execution_count": 24,
   "id": "26a902a3",
   "metadata": {},
   "outputs": [
    {
     "data": {
      "text/plain": [
       "torch.Size([1, 400])"
      ]
     },
     "execution_count": 24,
     "metadata": {},
     "output_type": "execute_result"
    }
   ],
   "source": [
    "x.view(-1,16*5*5).shape"
   ]
  },
  {
   "cell_type": "code",
   "execution_count": 26,
   "id": "f2f021d8",
   "metadata": {},
   "outputs": [],
   "source": [
    "class ConvolutionalNetwork(nn.Module):\n",
    "    def __init__(self):\n",
    "        super().__init__()\n",
    "        self.conv1 = nn.Conv2d(1, 6, 3, 1)\n",
    "        self.conv2 = nn.Conv2d(6, 16, 3, 1)\n",
    "        self.fc1 = nn.Linear(5*5*16, 120)\n",
    "        self.fc2 = nn.Linear(120, 84)\n",
    "        self.fc3 = nn.Linear(84,10)\n",
    "\n",
    "    def forward(self, X):\n",
    "        X = F.relu(self.conv1(X))\n",
    "        X = F.max_pool2d(X, 2, 2)\n",
    "        X = F.relu(self.conv2(X))\n",
    "        X = F.max_pool2d(X, 2, 2)\n",
    "        X = X.view(-1, 5*5*16)\n",
    "        X = F.relu(self.fc1(X))\n",
    "        X = F.relu(self.fc2(X))\n",
    "        X = self.fc3(X)\n",
    "        return F.log_softmax(X, dim=1)"
   ]
  },
  {
   "cell_type": "code",
   "execution_count": 27,
   "id": "94ee89d5",
   "metadata": {},
   "outputs": [
    {
     "data": {
      "text/plain": [
       "ConvolutionalNetwork(\n",
       "  (conv1): Conv2d(1, 6, kernel_size=(3, 3), stride=(1, 1))\n",
       "  (conv2): Conv2d(6, 16, kernel_size=(3, 3), stride=(1, 1))\n",
       "  (fc1): Linear(in_features=400, out_features=120, bias=True)\n",
       "  (fc2): Linear(in_features=120, out_features=84, bias=True)\n",
       "  (fc3): Linear(in_features=84, out_features=10, bias=True)\n",
       ")"
      ]
     },
     "execution_count": 27,
     "metadata": {},
     "output_type": "execute_result"
    }
   ],
   "source": [
    "torch.manual_seed(42)\n",
    "model = ConvolutionalNetwork()\n",
    "model"
   ]
  },
  {
   "cell_type": "code",
   "execution_count": 28,
   "id": "dad8e42a",
   "metadata": {},
   "outputs": [
    {
     "name": "stdout",
     "output_type": "stream",
     "text": [
      "54\n",
      "6\n",
      "864\n",
      "16\n",
      "48000\n",
      "120\n",
      "10080\n",
      "84\n",
      "840\n",
      "10\n"
     ]
    }
   ],
   "source": [
    "for param in model.parameters():\n",
    "    print(param.numel())"
   ]
  },
  {
   "cell_type": "code",
   "execution_count": 29,
   "id": "81f2a67c",
   "metadata": {},
   "outputs": [],
   "source": [
    "criterion = nn.CrossEntropyLoss()\n",
    "optimizer = torch.optim.Adam(model.parameters(),lr=0.001)"
   ]
  },
  {
   "cell_type": "code",
   "execution_count": 32,
   "id": "16231a30",
   "metadata": {},
   "outputs": [],
   "source": [
    "def count_parameters(model):\n",
    "    params = [p.numel() for p in model.parameters() if p.requires_grad]\n",
    "    for item in params:\n",
    "        print(f'{item:>6}')\n",
    "    print(f'______\\n{sum(params):>6}')"
   ]
  },
  {
   "cell_type": "code",
   "execution_count": 33,
   "id": "c6900ae8",
   "metadata": {},
   "outputs": [
    {
     "name": "stdout",
     "output_type": "stream",
     "text": [
      "    54\n",
      "     6\n",
      "   864\n",
      "    16\n",
      " 48000\n",
      "   120\n",
      " 10080\n",
      "    84\n",
      "   840\n",
      "    10\n",
      "______\n",
      " 60074\n"
     ]
    }
   ],
   "source": [
    "count_parameters(model)"
   ]
  },
  {
   "cell_type": "code",
   "execution_count": 35,
   "id": "e2428ecf",
   "metadata": {},
   "outputs": [
    {
     "name": "stdout",
     "output_type": "stream",
     "text": [
      "epoch:  0  batch:  600 [  6000/60000]  loss: 0.04055629  accuracy:  78.417%\n",
      "epoch:  0  batch: 1200 [ 12000/60000]  loss: 0.08253470  accuracy:  85.800%\n",
      "epoch:  0  batch: 1800 [ 18000/60000]  loss: 0.36470515  accuracy:  88.689%\n",
      "epoch:  0  batch: 2400 [ 24000/60000]  loss: 0.01839541  accuracy:  90.525%\n",
      "epoch:  0  batch: 3000 [ 30000/60000]  loss: 0.00845350  accuracy:  91.687%\n",
      "epoch:  0  batch: 3600 [ 36000/60000]  loss: 0.00152981  accuracy:  92.506%\n",
      "epoch:  0  batch: 4200 [ 42000/60000]  loss: 0.56773776  accuracy:  93.152%\n",
      "epoch:  0  batch: 4800 [ 48000/60000]  loss: 0.02005105  accuracy:  93.615%\n",
      "epoch:  0  batch: 5400 [ 54000/60000]  loss: 0.00804486  accuracy:  94.030%\n",
      "epoch:  0  batch: 6000 [ 60000/60000]  loss: 0.03699137  accuracy:  94.340%\n",
      "epoch:  1  batch:  600 [  6000/60000]  loss: 0.01467017  accuracy:  97.717%\n",
      "epoch:  1  batch: 1200 [ 12000/60000]  loss: 0.04897313  accuracy:  97.875%\n",
      "epoch:  1  batch: 1800 [ 18000/60000]  loss: 0.00128244  accuracy:  97.906%\n",
      "epoch:  1  batch: 2400 [ 24000/60000]  loss: 0.02976403  accuracy:  97.846%\n",
      "epoch:  1  batch: 3000 [ 30000/60000]  loss: 0.26929161  accuracy:  97.833%\n",
      "epoch:  1  batch: 3600 [ 36000/60000]  loss: 0.00083181  accuracy:  97.886%\n",
      "epoch:  1  batch: 4200 [ 42000/60000]  loss: 0.00076850  accuracy:  97.955%\n",
      "epoch:  1  batch: 4800 [ 48000/60000]  loss: 0.00052351  accuracy:  97.948%\n",
      "epoch:  1  batch: 5400 [ 54000/60000]  loss: 0.00029904  accuracy:  97.957%\n",
      "epoch:  1  batch: 6000 [ 60000/60000]  loss: 0.23541793  accuracy:  97.965%\n",
      "epoch:  2  batch:  600 [  6000/60000]  loss: 0.00110961  accuracy:  98.750%\n",
      "epoch:  2  batch: 1200 [ 12000/60000]  loss: 0.00144677  accuracy:  98.708%\n",
      "epoch:  2  batch: 1800 [ 18000/60000]  loss: 0.00315191  accuracy:  98.578%\n",
      "epoch:  2  batch: 2400 [ 24000/60000]  loss: 0.00102058  accuracy:  98.596%\n",
      "epoch:  2  batch: 3000 [ 30000/60000]  loss: 0.18204652  accuracy:  98.517%\n",
      "epoch:  2  batch: 3600 [ 36000/60000]  loss: 0.03696536  accuracy:  98.503%\n",
      "epoch:  2  batch: 4200 [ 42000/60000]  loss: 0.02009998  accuracy:  98.500%\n",
      "epoch:  2  batch: 4800 [ 48000/60000]  loss: 0.00993064  accuracy:  98.504%\n",
      "epoch:  2  batch: 5400 [ 54000/60000]  loss: 0.00023942  accuracy:  98.519%\n",
      "epoch:  2  batch: 6000 [ 60000/60000]  loss: 0.00006037  accuracy:  98.508%\n",
      "epoch:  3  batch:  600 [  6000/60000]  loss: 0.00100146  accuracy:  98.800%\n",
      "epoch:  3  batch: 1200 [ 12000/60000]  loss: 0.00773100  accuracy:  98.825%\n",
      "epoch:  3  batch: 1800 [ 18000/60000]  loss: 0.00025685  accuracy:  98.817%\n",
      "epoch:  3  batch: 2400 [ 24000/60000]  loss: 0.00014395  accuracy:  98.829%\n",
      "epoch:  3  batch: 3000 [ 30000/60000]  loss: 0.16390331  accuracy:  98.820%\n",
      "epoch:  3  batch: 3600 [ 36000/60000]  loss: 0.00786366  accuracy:  98.797%\n",
      "epoch:  3  batch: 4200 [ 42000/60000]  loss: 0.00010728  accuracy:  98.814%\n",
      "epoch:  3  batch: 4800 [ 48000/60000]  loss: 0.01267157  accuracy:  98.821%\n",
      "epoch:  3  batch: 5400 [ 54000/60000]  loss: 0.00430503  accuracy:  98.806%\n",
      "epoch:  3  batch: 6000 [ 60000/60000]  loss: 0.00797482  accuracy:  98.787%\n",
      "epoch:  4  batch:  600 [  6000/60000]  loss: 0.00053019  accuracy:  99.000%\n",
      "epoch:  4  batch: 1200 [ 12000/60000]  loss: 0.05280525  accuracy:  98.975%\n",
      "epoch:  4  batch: 1800 [ 18000/60000]  loss: 0.00037048  accuracy:  99.000%\n",
      "epoch:  4  batch: 2400 [ 24000/60000]  loss: 0.00015497  accuracy:  98.979%\n",
      "epoch:  4  batch: 3000 [ 30000/60000]  loss: 0.01641036  accuracy:  98.983%\n",
      "epoch:  4  batch: 3600 [ 36000/60000]  loss: 0.00161556  accuracy:  99.014%\n",
      "epoch:  4  batch: 4200 [ 42000/60000]  loss: 0.00031958  accuracy:  99.031%\n",
      "epoch:  4  batch: 4800 [ 48000/60000]  loss: 0.00231991  accuracy:  99.042%\n",
      "epoch:  4  batch: 5400 [ 54000/60000]  loss: 0.00010736  accuracy:  99.024%\n",
      "epoch:  4  batch: 6000 [ 60000/60000]  loss: 0.00260488  accuracy:  99.015%\n",
      "\n",
      "Duration: 180 seconds\n"
     ]
    }
   ],
   "source": [
    "import time\n",
    "start_time = time.time()\n",
    "\n",
    "\n",
    "# Variables(trackers)\n",
    "\n",
    "epochs = 5\n",
    "train_losses = []\n",
    "test_losses = []\n",
    "train_correct = []\n",
    "test_correct = []\n",
    "\n",
    "# FOR LOOP EPOCH\n",
    "\n",
    "for i in range(epochs):\n",
    "    trn_corr = 0\n",
    "    tst_corr = 0\n",
    "    \n",
    "    # Run the training batches (train)\n",
    "    for b, (X_train, y_train) in enumerate(train_loader):\n",
    "        b+=1\n",
    "        \n",
    "        # Apply the model\n",
    "        y_pred = model(X_train)  # we don't flatten X-train here\n",
    "        loss = criterion(y_pred, y_train)\n",
    " \n",
    "        # Tally the number of correct predictions\n",
    "        predicted = torch.max(y_pred.data, 1)[1]\n",
    "        batch_corr = (predicted == y_train).sum() # True 1 or False 0 sum()\n",
    "        trn_corr += batch_corr\n",
    "        \n",
    "        \n",
    "        # Update parameters\n",
    "        optimizer.zero_grad()\n",
    "        loss.backward()\n",
    "        optimizer.step()\n",
    "\n",
    "        # Print interim results\n",
    "        if b%600 == 0:\n",
    "            print(f'epoch: {i:2}  batch: {b:4} [{10*b:6}/60000]  loss: {loss.item():10.8f}  \\\n",
    "accuracy: {trn_corr.item()*100/(10*b):7.3f}%')\n",
    "        \n",
    "    train_losses.append(loss.item())\n",
    "    train_correct.append(trn_corr.item())\n",
    "        \n",
    "    # Run the testing batches\n",
    "    with torch.no_grad():\n",
    "        for b, (X_test, y_test) in enumerate(test_loader):\n",
    "\n",
    "            # Apply the model\n",
    "            y_val = model(X_test)\n",
    "\n",
    "            # Tally the number of correct predictions\n",
    "            predicted = torch.max(y_val.data, 1)[1] \n",
    "            tst_corr += (predicted == y_test).sum()\n",
    "            \n",
    "    loss = criterion(y_val, y_test)\n",
    "    test_losses.append(loss)\n",
    "    test_correct.append(tst_corr)\n",
    "        \n",
    "print(f'\\nDuration: {time.time() - start_time:.0f} seconds') # print the time elapsed            "
   ]
  },
  {
   "cell_type": "code",
   "execution_count": 36,
   "id": "653caa17",
   "metadata": {},
   "outputs": [
    {
     "data": {
      "image/png": "[encoded data removed]",
      "text/plain": [
       "<Figure size 640x480 with 1 Axes>"
      ]
     },
     "metadata": {},
     "output_type": "display_data"
    }
   ],
   "source": [
    "plt.plot(train_losses, label='training loss')\n",
    "plt.plot(test_losses, label='validation loss')\n",
    "plt.title('Loss at the end of each epoch')\n",
    "plt.legend();"
   ]
  },
  {
   "cell_type": "code",
   "execution_count": 37,
   "id": "bb0ee9b9",
   "metadata": {},
   "outputs": [
    {
     "data": {
      "text/plain": [
       "[tensor(0.0027),\n",
       " tensor(0.0025),\n",
       " tensor(0.0013),\n",
       " tensor(3.4665e-05),\n",
       " tensor(0.0001)]"
      ]
     },
     "execution_count": 37,
     "metadata": {},
     "output_type": "execute_result"
    }
   ],
   "source": [
    "test_losses"
   ]
  },
  {
   "cell_type": "code",
   "execution_count": 38,
   "id": "7ca52234",
   "metadata": {},
   "outputs": [
    {
     "data": {
      "image/png": "[encoded data removed]",
      "text/plain": [
       "<Figure size 640x480 with 1 Axes>"
      ]
     },
     "metadata": {},
     "output_type": "display_data"
    }
   ],
   "source": [
    "plt.plot([t/600 for t in train_correct], label='training accuracy')\n",
    "plt.plot([t/100 for t in test_correct], label='validation accuracy')\n",
    "plt.title('Accuracy at the end of each epoch')\n",
    "plt.legend();"
   ]
  },
  {
   "cell_type": "code",
   "execution_count": 40,
   "id": "2c4e85f3",
   "metadata": {},
   "outputs": [],
   "source": [
    "# Extract the data all at once, not in batches\n",
    "test_load_all = DataLoader(test_data, batch_size=10000, shuffle=False)"
   ]
  },
  {
   "cell_type": "code",
   "execution_count": 41,
   "id": "4546e6c0",
   "metadata": {},
   "outputs": [
    {
     "name": "stdout",
     "output_type": "stream",
     "text": [
      "Test accuracy: 9858/10000 =  98.580%\n"
     ]
    }
   ],
   "source": [
    "with torch.no_grad():\n",
    "    correct = 0\n",
    "    for X_test, y_test in test_load_all:\n",
    "        y_val = model(X_test)  # we don't flatten the data this time\n",
    "        predicted = torch.max(y_val,1)[1]\n",
    "        correct += (predicted == y_test).sum()\n",
    "print(f'Test accuracy: {correct.item()}/{len(test_data)} = {correct.item()*100/(len(test_data)):7.3f}%')"
   ]
  },
  {
   "cell_type": "code",
   "execution_count": 42,
   "id": "ed2cebc9",
   "metadata": {},
   "outputs": [
    {
     "data": {
      "text/plain": [
       "0.9858"
      ]
     },
     "execution_count": 42,
     "metadata": {},
     "output_type": "execute_result"
    }
   ],
   "source": [
    "correct.item()/len(test_data)"
   ]
  },
  {
   "cell_type": "code",
   "execution_count": 43,
   "id": "0b4378ca",
   "metadata": {},
   "outputs": [
    {
     "name": "stdout",
     "output_type": "stream",
     "text": [
      "[[   0    1    2    3    4    5    6    7    8    9]]\n",
      "\n",
      "[[ 975    0    0    0    0    1    3    0    3    0]\n",
      " [   0 1133    1    0    0    1    2    6    0    1]\n",
      " [   0    1 1023    0    1    0    1    7    2    0]\n",
      " [   0    1    0 1004    0    6    0    0    1    3]\n",
      " [   0    0    1    0  978    0    1    2    2   24]\n",
      " [   0    0    0    3    0  877    3    0    2    5]\n",
      " [   4    0    0    0    2    2  947    0    1    1]\n",
      " [   1    0    5    1    0    1    0 1009    0    5]\n",
      " [   0    0    2    2    0    2    1    1  962   20]\n",
      " [   0    0    0    0    1    2    0    3    1  950]]\n"
     ]
    }
   ],
   "source": [
    "# print a row of values for reference\n",
    "np.set_printoptions(formatter=dict(int=lambda x: f'{x:4}'))\n",
    "print(np.arange(10).reshape(1,10))\n",
    "print()\n",
    "\n",
    "# print the confusion matrix\n",
    "print(confusion_matrix(predicted.view(-1), y_test.view(-1)))"
   ]
  },
  {
   "cell_type": "code",
   "execution_count": 67,
   "id": "8546708c",
   "metadata": {},
   "outputs": [
    {
     "data": {
      "text/plain": [
       "142"
      ]
     },
     "execution_count": 67,
     "metadata": {},
     "output_type": "execute_result"
    }
   ],
   "source": [
    "#Examine the misses\n",
    "#We can track the index positions of \"missed\" predictions, and extract the corresponding image and label.\n",
    "#We'll do this in batches to save screen space.\n",
    "\n",
    "misses = np.array([])\n",
    "for i in range(len(predicted.view(-1))):\n",
    "    if predicted[i] != y_test[i]:\n",
    "        misses = np.append(misses,i).astype('int64')\n",
    "        \n",
    "# Display the number of misses\n",
    "len(misses)"
   ]
  },
  {
   "cell_type": "code",
   "execution_count": 68,
   "id": "ab9b6953",
   "metadata": {},
   "outputs": [
    {
     "data": {
      "text/plain": [
       "array([ 235,  247,  273,  320,  340,  359,  417,  445,  448,  495],\n",
       "      dtype=int64)"
      ]
     },
     "execution_count": 68,
     "metadata": {},
     "output_type": "execute_result"
    }
   ],
   "source": [
    "# Display the first 10 index positions\n",
    "misses[:10]"
   ]
  },
  {
   "cell_type": "code",
   "execution_count": 69,
   "id": "f449bd9a",
   "metadata": {},
   "outputs": [],
   "source": [
    "# Set up an iterator to feed batched rows\n",
    "r = 12   # row size\n",
    "row = iter(np.array_split(misses,len(misses)//r+1))"
   ]
  },
  {
   "cell_type": "code",
   "execution_count": 72,
   "id": "85e6a0b8",
   "metadata": {},
   "outputs": [
    {
     "name": "stdout",
     "output_type": "stream",
     "text": [
      "Index: [ 691  813  926  938  947  992 1014 1021 1032 1039 1107 1112]\n",
      "Label: [   8    9    2    3    8    9    6    7    5    7    9    4]\n",
      "Guess: [   4    8    8    5    9    8    5    2    6    1    3    6]\n"
     ]
    },
    {
     "data": {
      "image/png": "[encoded data removed]",
      "text/plain": [
       "<Figure size 1000x400 with 1 Axes>"
      ]
     },
     "metadata": {},
     "output_type": "display_data"
    }
   ],
   "source": [
    "# Now that everything is set up, run and re-run the cell below to view all of the missed predictions.\n",
    "\n",
    "nextrow = next(row)\n",
    "print(\"Index:\", nextrow)\n",
    "print(\"Label:\", y_test.index_select(0,torch.tensor(nextrow)).numpy())\n",
    "print(\"Guess:\", predicted.index_select(0,torch.tensor(nextrow)).numpy())\n",
    "\n",
    "images = X_test.index_select(0,torch.tensor(nextrow))\n",
    "im = make_grid(images, nrow=r)\n",
    "plt.figure(figsize=(10,4))\n",
    "plt.imshow(np.transpose(im.numpy(), (1, 2, 0)));"
   ]
  },
  {
   "cell_type": "code",
   "execution_count": 73,
   "id": "553a9585",
   "metadata": {},
   "outputs": [
    {
     "data": {
      "text/plain": [
       "<matplotlib.image.AxesImage at 0x25cd921b650>"
      ]
     },
     "execution_count": 73,
     "metadata": {},
     "output_type": "execute_result"
    },
    {
     "data": {
      "image/png": "[encoded data removed]",
      "text/plain": [
       "<Figure size 640x480 with 1 Axes>"
      ]
     },
     "metadata": {},
     "output_type": "display_data"
    }
   ],
   "source": [
    "plt.imshow(test_data[691][0].reshape(28,28))"
   ]
  },
  {
   "cell_type": "code",
   "execution_count": 74,
   "id": "f2c89464",
   "metadata": {},
   "outputs": [
    {
     "name": "stdout",
     "output_type": "stream",
     "text": [
      "Predicted value: 4\n"
     ]
    }
   ],
   "source": [
    "model.eval()\n",
    "with torch.no_grad():\n",
    "    new_pred = model(test_data[691][0].view(1,1,28,28)).argmax()\n",
    "print(\"Predicted value:\",new_pred.item())"
   ]
  },
  {
   "cell_type": "code",
   "execution_count": null,
   "id": "fb972c29",
   "metadata": {},
   "outputs": [],
   "source": []
  }
 ],
 "metadata": {
  "kernelspec": {
   "display_name": "Python 3 (ipykernel)",
   "language": "python",
   "name": "python3"
  },
  "language_info": {
   "codemirror_mode": {
    "name": "ipython",
    "version": 3
   },
   "file_extension": ".py",
   "mimetype": "text/x-python",
   "name": "python",
   "nbconvert_exporter": "python",
   "pygments_lexer": "ipython3",
   "version": "3.11.3"
  }
 },
 "nbformat": 4,
 "nbformat_minor": 5
}
